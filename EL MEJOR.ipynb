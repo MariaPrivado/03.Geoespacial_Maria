{
 "cells": [
  {
   "cell_type": "markdown",
   "id": "453ebc5c",
   "metadata": {},
   "source": [
    "### 00. Importamos librerías"
   ]
  },
  {
   "cell_type": "code",
   "execution_count": 311,
   "id": "1734cc44",
   "metadata": {},
   "outputs": [],
   "source": [
    "from pymongo import MongoClient\n",
    "from pymongo import GEOSPHERE\n",
    "import folium\n",
    "from folium import Choropleth, Circle, Marker, Icon, Map\n",
    "from folium.plugins import HeatMap, MarkerCluster\n",
    "import pandas as pd\n",
    "import requests\n",
    "import json\n",
    "from dotenv import load_dotenv\n",
    "import os\n",
    "import pandas as pd"
   ]
  },
  {
   "cell_type": "markdown",
   "id": "33ce4490",
   "metadata": {},
   "source": [
    "### 01. Elegimos ubicaciones"
   ]
  },
  {
   "cell_type": "markdown",
   "id": "15bc43f9",
   "metadata": {},
   "source": [
    "Como sabemos que todos los empleados son jóvenes y les gusta salir, hemos decidido situar como punto estratégico unicaciones de sitios emblemáticos en 3 capitales europeas.\n",
    "\n",
    "- Mad_Puerta_del_sol = [40.41706973493005, -3.703560607026817]\n",
    "- Roma_Coliseo = [41.89020219240534, 12.492187981868335]\n",
    "- Berlin_Puerta_Brandenburgo = [52.51641823520535, 13.377618269311524]\n"
   ]
  },
  {
   "cell_type": "code",
   "execution_count": 316,
   "id": "f258c551",
   "metadata": {},
   "outputs": [],
   "source": [
    "m = {\"latt\" : 40.41706973493005, \"longt\": -3.703560607026817} #madrid \n",
    "r = {\"latt\" : 41.89020219240534, \"longt\" :12.492187981868335} #roma\n",
    "b = {\"latt\" : 52.51641823520535, \"longt\" :13.377618269311524} #berlín"
   ]
  },
  {
   "cell_type": "markdown",
   "id": "c7f46620",
   "metadata": {},
   "source": [
    "Obtenemos el tipo Point de nuestras ubicaciones"
   ]
  },
  {
   "cell_type": "code",
   "execution_count": 317,
   "id": "6cbefd2b",
   "metadata": {},
   "outputs": [],
   "source": [
    "def devuelvetipoPoint(x):\n",
    "    return {\"type\": \"Point\", \"coordinates\": [ x[\"longt\"],x[\"latt\"]]}"
   ]
  },
  {
   "cell_type": "code",
   "execution_count": 318,
   "id": "df14f3ab",
   "metadata": {},
   "outputs": [],
   "source": [
    "m = devuelvetipoPoint(m)"
   ]
  },
  {
   "cell_type": "code",
   "execution_count": 319,
   "id": "d9052912",
   "metadata": {},
   "outputs": [],
   "source": [
    "r = devuelvetipoPoint(r)"
   ]
  },
  {
   "cell_type": "code",
   "execution_count": 320,
   "id": "61a3f1c7",
   "metadata": {},
   "outputs": [],
   "source": [
    "b = devuelvetipoPoint(b)"
   ]
  },
  {
   "cell_type": "markdown",
   "id": "5deae43a",
   "metadata": {},
   "source": [
    "### 02. Vamos a empezar a hacer queries a la API"
   ]
  },
  {
   "cell_type": "code",
   "execution_count": 321,
   "id": "9726ae50",
   "metadata": {},
   "outputs": [
    {
     "data": {
      "text/plain": [
       "True"
      ]
     },
     "execution_count": 321,
     "metadata": {},
     "output_type": "execute_result"
    }
   ],
   "source": [
    "load_dotenv()"
   ]
  },
  {
   "cell_type": "code",
   "execution_count": 322,
   "id": "3c2ed17c",
   "metadata": {},
   "outputs": [],
   "source": [
    "client_id = os.getenv(\"tok1\")\n",
    "client_secret = os.getenv(\"tok2\")"
   ]
  },
  {
   "cell_type": "code",
   "execution_count": 324,
   "id": "5b8016ca",
   "metadata": {},
   "outputs": [],
   "source": [
    "url_query = 'https://api.foursquare.com/v2/venues/search'"
   ]
  },
  {
   "cell_type": "markdown",
   "id": "3622d97a",
   "metadata": {},
   "source": [
    "Hemos elegido como criterios fundamentales, Starbucks, veterinarios y Aeropuertos, ahora vamos a hacer una query por cada criterio"
   ]
  },
  {
   "cell_type": "markdown",
   "id": "ee665bca",
   "metadata": {},
   "source": [
    "Starbucks Madrid"
   ]
  },
  {
   "cell_type": "code",
   "execution_count": 325,
   "id": "2536007f",
   "metadata": {},
   "outputs": [],
   "source": [
    "parametros_m_star = {\n",
    "    \"client_id\": client_id,\n",
    "    \"client_secret\": client_secret,\n",
    "    \"v\": \"20180323\",\n",
    "    \"ll\": f\"{m['coordinates'][1]}, {m['coordinates'][0]}\",\n",
    "    \"query\": \"Starbucks\"\n",
    "}"
   ]
  },
  {
   "cell_type": "code",
   "execution_count": 326,
   "id": "fc9941db",
   "metadata": {},
   "outputs": [],
   "source": [
    "resp_m_star = requests.get(url_query, params = parametros_m_star).json()"
   ]
  },
  {
   "cell_type": "code",
   "execution_count": 327,
   "id": "dc80379d",
   "metadata": {},
   "outputs": [],
   "source": [
    "m_star = list(resp_m_star[\"response\"][\"venues\"])\n"
   ]
  },
  {
   "cell_type": "markdown",
   "id": "12480ccc",
   "metadata": {},
   "source": [
    "Starbucks Roma"
   ]
  },
  {
   "cell_type": "code",
   "execution_count": 328,
   "id": "d6034560",
   "metadata": {},
   "outputs": [],
   "source": [
    "parametros_r_star = {\n",
    "    \"client_id\": client_id,\n",
    "    \"client_secret\": client_secret,\n",
    "    \"v\": \"20180323\",\n",
    "    \"ll\": f\"{r['coordinates'][1]}, {r['coordinates'][0]}\",\n",
    "    \"query\": \"Starbucks\"\n",
    "}"
   ]
  },
  {
   "cell_type": "code",
   "execution_count": 329,
   "id": "41f5b62e",
   "metadata": {},
   "outputs": [],
   "source": [
    "resp_r_star = requests.get(url_query, params = parametros_r_star).json()"
   ]
  },
  {
   "cell_type": "code",
   "execution_count": 330,
   "id": "4bd493b7",
   "metadata": {},
   "outputs": [
    {
     "data": {
      "text/plain": [
       "2"
      ]
     },
     "execution_count": 330,
     "metadata": {},
     "output_type": "execute_result"
    }
   ],
   "source": [
    "r_star = list(resp_r_star[\"response\"][\"venues\"])\n",
    "len(r_star)"
   ]
  },
  {
   "cell_type": "markdown",
   "id": "e4c8969c",
   "metadata": {},
   "source": [
    "Starbucks en Berlín"
   ]
  },
  {
   "cell_type": "code",
   "execution_count": 331,
   "id": "7b357e1d",
   "metadata": {},
   "outputs": [],
   "source": [
    "parametros_b_star = {\n",
    "    \"client_id\": client_id,\n",
    "    \"client_secret\": client_secret,\n",
    "    \"v\": \"20180323\",\n",
    "    \"ll\": f\"{b['coordinates'][1]}, {b['coordinates'][0]}\",\n",
    "    \"query\": \"Starbucks\"\n",
    "}"
   ]
  },
  {
   "cell_type": "code",
   "execution_count": 332,
   "id": "2556537f",
   "metadata": {},
   "outputs": [],
   "source": [
    "resp_b_star = requests.get(url_query, params = parametros_b_star).json()"
   ]
  },
  {
   "cell_type": "code",
   "execution_count": 333,
   "id": "34e3a0cd",
   "metadata": {},
   "outputs": [
    {
     "data": {
      "text/plain": [
       "20"
      ]
     },
     "execution_count": 333,
     "metadata": {},
     "output_type": "execute_result"
    }
   ],
   "source": [
    "b_star = list(resp_b_star[\"response\"][\"venues\"])\n",
    "len(b_star)"
   ]
  },
  {
   "cell_type": "markdown",
   "id": "3d461a2b",
   "metadata": {},
   "source": [
    "Veterinario en Madrid"
   ]
  },
  {
   "cell_type": "code",
   "execution_count": 334,
   "id": "c718bae3",
   "metadata": {},
   "outputs": [],
   "source": [
    "parametros_m_dobby = {\n",
    "    \"client_id\": client_id,\n",
    "    \"client_secret\": client_secret,\n",
    "    \"v\": \"20180323\",\n",
    "    \"ll\": f\"{m['coordinates'][1]}, {m['coordinates'][0]}\",\n",
    "    \"query\": \"Vet\"\n",
    "}"
   ]
  },
  {
   "cell_type": "code",
   "execution_count": 335,
   "id": "dd61b4eb",
   "metadata": {},
   "outputs": [],
   "source": [
    "resp_m_dobby = requests.get(url_query, params = parametros_m_dobby).json()"
   ]
  },
  {
   "cell_type": "code",
   "execution_count": 336,
   "id": "1c53c48e",
   "metadata": {},
   "outputs": [],
   "source": [
    "m_dobby = list(resp_m_dobby[\"response\"][\"venues\"])"
   ]
  },
  {
   "cell_type": "markdown",
   "id": "ed738458",
   "metadata": {},
   "source": [
    "Veterinario en Roma"
   ]
  },
  {
   "cell_type": "code",
   "execution_count": 337,
   "id": "59641705",
   "metadata": {},
   "outputs": [],
   "source": [
    "parametros_r_dobby = {\n",
    "    \"client_id\": client_id,\n",
    "    \"client_secret\": client_secret,\n",
    "    \"v\": \"20180323\",\n",
    "    \"ll\": f\"{r['coordinates'][1]}, {r['coordinates'][0]}\",\n",
    "    \"query\": \"Vet\"\n",
    "}"
   ]
  },
  {
   "cell_type": "code",
   "execution_count": 338,
   "id": "1fe02f1d",
   "metadata": {},
   "outputs": [],
   "source": [
    "resp_r_dobby = requests.get(url_query, params = parametros_r_dobby).json()"
   ]
  },
  {
   "cell_type": "code",
   "execution_count": 339,
   "id": "f9bf87f6",
   "metadata": {},
   "outputs": [],
   "source": [
    "r_dobby = list(resp_r_dobby[\"response\"][\"venues\"])"
   ]
  },
  {
   "cell_type": "markdown",
   "id": "381265cf",
   "metadata": {},
   "source": [
    "Vererinario en Berlín"
   ]
  },
  {
   "cell_type": "code",
   "execution_count": 340,
   "id": "eac55a60",
   "metadata": {},
   "outputs": [],
   "source": [
    "parametros_b_dobby = {\n",
    "    \"client_id\": client_id,\n",
    "    \"client_secret\": client_secret,\n",
    "    \"v\": \"20180323\",\n",
    "    \"ll\": f\"{b['coordinates'][1]}, {b['coordinates'][0]}\",\n",
    "    \"query\": \"Vet\"\n",
    "}"
   ]
  },
  {
   "cell_type": "code",
   "execution_count": 341,
   "id": "f1bce199",
   "metadata": {},
   "outputs": [],
   "source": [
    "resp_b_dobby = requests.get(url_query, params = parametros_b_dobby).json()"
   ]
  },
  {
   "cell_type": "code",
   "execution_count": 342,
   "id": "ca22ccbe",
   "metadata": {},
   "outputs": [],
   "source": [
    "b_dobby = list(resp_b_dobby[\"response\"][\"venues\"])"
   ]
  },
  {
   "cell_type": "markdown",
   "id": "721fed5c",
   "metadata": {},
   "source": [
    "Aeropuerto en Madrid"
   ]
  },
  {
   "cell_type": "code",
   "execution_count": 343,
   "id": "29a68fe7",
   "metadata": {},
   "outputs": [],
   "source": [
    "parametros_m_air = {\n",
    "    \"client_id\": client_id,\n",
    "    \"client_secret\": client_secret,\n",
    "    \"v\": \"20180323\",\n",
    "    \"ll\": f\"{m['coordinates'][1]}, {m['coordinates'][0]}\",\n",
    "    \"query\": \"Airport\"\n",
    "}"
   ]
  },
  {
   "cell_type": "code",
   "execution_count": 344,
   "id": "74d3b0d4",
   "metadata": {},
   "outputs": [],
   "source": [
    "resp_m_air = requests.get(url_query, params = parametros_m_air).json()"
   ]
  },
  {
   "cell_type": "code",
   "execution_count": 345,
   "id": "878849be",
   "metadata": {},
   "outputs": [],
   "source": [
    "m_air = list(resp_m_air[\"response\"][\"venues\"])"
   ]
  },
  {
   "cell_type": "markdown",
   "id": "1606b9fe",
   "metadata": {},
   "source": [
    "Aeropuerto en Roma"
   ]
  },
  {
   "cell_type": "code",
   "execution_count": 346,
   "id": "d092c78c",
   "metadata": {},
   "outputs": [],
   "source": [
    "parametros_r_air = {\n",
    "    \"client_id\": client_id,\n",
    "    \"client_secret\": client_secret,\n",
    "    \"v\": \"20180323\",\n",
    "    \"ll\": f\"{r['coordinates'][1]}, {r['coordinates'][0]}\",\n",
    "    \"query\": \"Airport\"\n",
    "}"
   ]
  },
  {
   "cell_type": "code",
   "execution_count": 347,
   "id": "19834fad",
   "metadata": {},
   "outputs": [],
   "source": [
    "resp_r_air = requests.get(url_query, params = parametros_r_air).json()"
   ]
  },
  {
   "cell_type": "code",
   "execution_count": 348,
   "id": "84a527a8",
   "metadata": {},
   "outputs": [],
   "source": [
    "r_air = list(resp_r_air[\"response\"][\"venues\"])"
   ]
  },
  {
   "cell_type": "code",
   "execution_count": 349,
   "id": "49e69b1f",
   "metadata": {},
   "outputs": [
    {
     "data": {
      "text/plain": [
       "2"
      ]
     },
     "execution_count": 349,
     "metadata": {},
     "output_type": "execute_result"
    }
   ],
   "source": [
    "len(list(resp_r_air))"
   ]
  },
  {
   "cell_type": "markdown",
   "id": "e0575363",
   "metadata": {},
   "source": [
    "Aeropuerto en Berlin"
   ]
  },
  {
   "cell_type": "code",
   "execution_count": 350,
   "id": "083b6faa",
   "metadata": {},
   "outputs": [],
   "source": [
    "parametros_b_air = {\n",
    "    \"client_id\": client_id,\n",
    "    \"client_secret\": client_secret,\n",
    "    \"v\": \"20180323\",\n",
    "    \"ll\": f\"{b['coordinates'][1]}, {b['coordinates'][0]}\",\n",
    "    \"query\": \"Airport\"\n",
    "}"
   ]
  },
  {
   "cell_type": "code",
   "execution_count": 351,
   "id": "38eb9764",
   "metadata": {},
   "outputs": [],
   "source": [
    "resp_b_air = requests.get(url_query, params = parametros_b_air).json()"
   ]
  },
  {
   "cell_type": "code",
   "execution_count": 352,
   "id": "a3b1630c",
   "metadata": {},
   "outputs": [],
   "source": [
    "b_air = list(resp_b_air[\"response\"][\"venues\"])"
   ]
  },
  {
   "cell_type": "code",
   "execution_count": 353,
   "id": "3d340ea4",
   "metadata": {},
   "outputs": [
    {
     "data": {
      "text/plain": [
       "2"
      ]
     },
     "execution_count": 353,
     "metadata": {},
     "output_type": "execute_result"
    }
   ],
   "source": [
    "len(list(resp_b_air))"
   ]
  },
  {
   "cell_type": "markdown",
   "id": "a444c2b6",
   "metadata": {},
   "source": [
    "### 03. Limpiamos la respuesta de la API -- generamos dataframes limpitos"
   ]
  },
  {
   "cell_type": "markdown",
   "id": "9ff023ee",
   "metadata": {},
   "source": [
    "#### Definimos funciones de limpieza"
   ]
  },
  {
   "cell_type": "code",
   "execution_count": 142,
   "id": "0e856d99",
   "metadata": {},
   "outputs": [],
   "source": [
    "def esmadrid(x):\n",
    "    return \"madrid\""
   ]
  },
  {
   "cell_type": "code",
   "execution_count": 143,
   "id": "b24dd2de",
   "metadata": {},
   "outputs": [],
   "source": [
    "def esroma(x):\n",
    "    return \"roma\""
   ]
  },
  {
   "cell_type": "code",
   "execution_count": 144,
   "id": "aaa57351",
   "metadata": {},
   "outputs": [],
   "source": [
    "def esberlin(x):\n",
    "    return \"berlin\""
   ]
  },
  {
   "cell_type": "code",
   "execution_count": 145,
   "id": "fbaed86a",
   "metadata": {},
   "outputs": [],
   "source": [
    "def esstar(x):\n",
    "    return \"starbucks\""
   ]
  },
  {
   "cell_type": "code",
   "execution_count": 146,
   "id": "b2d87571",
   "metadata": {},
   "outputs": [],
   "source": [
    "def esvet(x):\n",
    "    return \"vet\""
   ]
  },
  {
   "cell_type": "code",
   "execution_count": 147,
   "id": "b9ee199c",
   "metadata": {},
   "outputs": [],
   "source": [
    "def esairport(x):\n",
    "    return \"airport\""
   ]
  },
  {
   "cell_type": "code",
   "execution_count": 150,
   "id": "3d75692b",
   "metadata": {},
   "outputs": [],
   "source": [
    "def devuelvedistancia(x):\n",
    "    return x[\"distance\"]"
   ]
  },
  {
   "cell_type": "code",
   "execution_count": 152,
   "id": "a95d846b",
   "metadata": {},
   "outputs": [],
   "source": [
    "def devuelvePoint(x):\n",
    "    return {\"type\": \"Point\", \"coordinates\": [x[\"lng\"], x[\"lat\"]]}"
   ]
  },
  {
   "cell_type": "markdown",
   "id": "bf6634bb",
   "metadata": {},
   "source": [
    "#### Sacamos el dataframe de Starbucks de Madrid"
   ]
  },
  {
   "cell_type": "code",
   "execution_count": 354,
   "id": "14f0d8bc",
   "metadata": {},
   "outputs": [],
   "source": [
    "df_m_star = pd.DataFrame(m_star)"
   ]
  },
  {
   "cell_type": "code",
   "execution_count": 141,
   "id": "0dbc3f64",
   "metadata": {},
   "outputs": [],
   "source": [
    "df_m_star.drop([\"id\", \"contact\", \"categories\",\"verified\",\"stats\",\"beenHere\",\"hereNow\",\"referralId\",\"venueChains\", \"hasPerk\" ], axis=1, inplace=True)"
   ]
  },
  {
   "cell_type": "code",
   "execution_count": 148,
   "id": "9afcfc23",
   "metadata": {},
   "outputs": [],
   "source": [
    "df_m_star[\"ciudad\"] = df_m_star[\"name\"].apply(esmadrid)"
   ]
  },
  {
   "cell_type": "code",
   "execution_count": 149,
   "id": "a1866e28",
   "metadata": {},
   "outputs": [],
   "source": [
    "df_m_star[\"criterio\"] = df_m_star[\"name\"].apply(esstar)"
   ]
  },
  {
   "cell_type": "code",
   "execution_count": 151,
   "id": "3d879301",
   "metadata": {},
   "outputs": [],
   "source": [
    "df_m_star[\"distancia\"] = df_m_star[\"location\"].apply(devuelvedistancia)"
   ]
  },
  {
   "cell_type": "code",
   "execution_count": 153,
   "id": "e056a342",
   "metadata": {},
   "outputs": [],
   "source": [
    "df_m_star[\"point\"] = df_m_star[\"location\"].apply(devuelvePoint)"
   ]
  },
  {
   "cell_type": "markdown",
   "id": "fedeb9eb",
   "metadata": {},
   "source": [
    "#### Sacamos el dataframe de Vet de Madrid "
   ]
  },
  {
   "cell_type": "code",
   "execution_count": 154,
   "id": "0d0fd3da",
   "metadata": {},
   "outputs": [],
   "source": [
    "df_m_dobby = pd.DataFrame(m_dobby)"
   ]
  },
  {
   "cell_type": "code",
   "execution_count": 155,
   "id": "da298ef0",
   "metadata": {},
   "outputs": [],
   "source": [
    "df_m_dobby.drop([\"id\",\"venuePage\", \"contact\", \"categories\",\"verified\",\"stats\",\"beenHere\",\"hereNow\",\"referralId\",\"venueChains\", \"hasPerk\"], axis=1, inplace=True)"
   ]
  },
  {
   "cell_type": "code",
   "execution_count": 156,
   "id": "42236b8a",
   "metadata": {},
   "outputs": [],
   "source": [
    "df_m_dobby[\"ciudad\"] = df_m_dobby[\"name\"].apply(esmadrid)"
   ]
  },
  {
   "cell_type": "code",
   "execution_count": 157,
   "id": "b0ca10c9",
   "metadata": {},
   "outputs": [],
   "source": [
    "df_m_dobby[\"criterio\"] = df_m_dobby[\"name\"].apply(esvet)"
   ]
  },
  {
   "cell_type": "code",
   "execution_count": 158,
   "id": "d2e61703",
   "metadata": {},
   "outputs": [],
   "source": [
    "df_m_dobby[\"distancia\"] = df_m_dobby[\"location\"].apply(devuelvedistancia)"
   ]
  },
  {
   "cell_type": "code",
   "execution_count": 159,
   "id": "28073085",
   "metadata": {},
   "outputs": [],
   "source": [
    "df_m_dobby[\"point\"] = df_m_dobby[\"location\"].apply(devuelvePoint)"
   ]
  },
  {
   "cell_type": "markdown",
   "id": "150a9921",
   "metadata": {},
   "source": [
    "#### Sacamos el dataframe de Aeropuerto de Madrid "
   ]
  },
  {
   "cell_type": "code",
   "execution_count": 160,
   "id": "f50dc228",
   "metadata": {},
   "outputs": [],
   "source": [
    "df_m_air = pd.DataFrame(m_air)"
   ]
  },
  {
   "cell_type": "code",
   "execution_count": 161,
   "id": "b3670edd",
   "metadata": {},
   "outputs": [],
   "source": [
    "df_m_air.drop([\"id\", \"contact\", \"venuePage\",\"categories\",\"verified\",\"stats\",\"beenHere\",\"hereNow\",\"referralId\",\"venueChains\", \"hasPerk\" ], axis=1, inplace=True)"
   ]
  },
  {
   "cell_type": "code",
   "execution_count": 162,
   "id": "3c2ed3b0",
   "metadata": {},
   "outputs": [],
   "source": [
    "df_m_air[\"distancia\"] = df_m_air[\"location\"].apply(devuelvedistancia)"
   ]
  },
  {
   "cell_type": "code",
   "execution_count": 163,
   "id": "c1d2ae97",
   "metadata": {},
   "outputs": [],
   "source": [
    "df_m_air[\"ciudad\"] = df_m_air[\"name\"].apply(esmadrid)"
   ]
  },
  {
   "cell_type": "code",
   "execution_count": 164,
   "id": "98eaf433",
   "metadata": {},
   "outputs": [],
   "source": [
    "df_m_air[\"criterio\"] = df_m_air[\"name\"].apply(esairport)"
   ]
  },
  {
   "cell_type": "code",
   "execution_count": 165,
   "id": "c473d580",
   "metadata": {},
   "outputs": [],
   "source": [
    "df_m_air[\"point\"] = df_m_air[\"location\"].apply(devuelvePoint)"
   ]
  },
  {
   "cell_type": "markdown",
   "id": "62a23342",
   "metadata": {},
   "source": [
    "#### Sacamos el dataframe deStarbucks de Roma "
   ]
  },
  {
   "cell_type": "code",
   "execution_count": 166,
   "id": "2d467403",
   "metadata": {},
   "outputs": [],
   "source": [
    "df_r_star = pd.DataFrame(r_star)"
   ]
  },
  {
   "cell_type": "code",
   "execution_count": 167,
   "id": "b57719ee",
   "metadata": {},
   "outputs": [],
   "source": [
    "df_r_star.drop([\"id\", \"contact\", \"categories\",\"verified\",\"stats\",\"beenHere\",\"hereNow\",\"referralId\",\"venueChains\", \"hasPerk\" ], axis=1, inplace=True)"
   ]
  },
  {
   "cell_type": "code",
   "execution_count": 168,
   "id": "dc5a29c4",
   "metadata": {},
   "outputs": [],
   "source": [
    "df_r_star[\"distancia\"] = df_r_star[\"location\"].apply(devuelvedistancia)"
   ]
  },
  {
   "cell_type": "code",
   "execution_count": 169,
   "id": "b787dbb3",
   "metadata": {},
   "outputs": [],
   "source": [
    "df_r_star[\"ciudad\"] = df_r_star[\"name\"].apply(esroma)"
   ]
  },
  {
   "cell_type": "code",
   "execution_count": 170,
   "id": "7ba05113",
   "metadata": {},
   "outputs": [],
   "source": [
    "df_r_star[\"criterio\"] = df_r_star[\"name\"].apply(esstar)"
   ]
  },
  {
   "cell_type": "code",
   "execution_count": 171,
   "id": "d078a990",
   "metadata": {},
   "outputs": [],
   "source": [
    "df_r_star[\"point\"] = df_r_star[\"location\"].apply(devuelvePoint)"
   ]
  },
  {
   "cell_type": "markdown",
   "id": "573f4cd2",
   "metadata": {},
   "source": [
    "#### Sacamos el dataframe de Vets en Roma "
   ]
  },
  {
   "cell_type": "code",
   "execution_count": 172,
   "id": "11de4857",
   "metadata": {},
   "outputs": [],
   "source": [
    "df_r_dobby = pd.DataFrame(r_dobby)"
   ]
  },
  {
   "cell_type": "code",
   "execution_count": 173,
   "id": "ae7c078d",
   "metadata": {},
   "outputs": [],
   "source": [
    "df_r_dobby.drop([\"id\", \"contact\", \"categories\",\"verified\",\"stats\",\"beenHere\",\"hereNow\",\"referralId\",\"venueChains\", \"hasPerk\" ], axis=1, inplace=True)"
   ]
  },
  {
   "cell_type": "code",
   "execution_count": 174,
   "id": "c781741a",
   "metadata": {},
   "outputs": [],
   "source": [
    "df_r_dobby[\"distancia\"] = df_r_dobby[\"location\"].apply(devuelvedistancia)"
   ]
  },
  {
   "cell_type": "code",
   "execution_count": 175,
   "id": "6ce409b1",
   "metadata": {},
   "outputs": [],
   "source": [
    "df_r_dobby[\"ciudad\"] = df_r_dobby[\"name\"].apply(esroma)"
   ]
  },
  {
   "cell_type": "code",
   "execution_count": 176,
   "id": "4047f592",
   "metadata": {},
   "outputs": [],
   "source": [
    "df_r_dobby[\"criterio\"] = df_m_dobby[\"name\"].apply(esvet)"
   ]
  },
  {
   "cell_type": "code",
   "execution_count": 177,
   "id": "8a71d348",
   "metadata": {},
   "outputs": [],
   "source": [
    "df_r_dobby[\"point\"] = df_r_dobby[\"location\"].apply(devuelvePoint)"
   ]
  },
  {
   "cell_type": "markdown",
   "id": "d0f7dd61",
   "metadata": {},
   "source": [
    "#### Sacamos el dataframe de Aeropuertos de Roma "
   ]
  },
  {
   "cell_type": "code",
   "execution_count": 178,
   "id": "531baa3c",
   "metadata": {},
   "outputs": [],
   "source": [
    "df_r_air = pd.DataFrame(r_air)"
   ]
  },
  {
   "cell_type": "code",
   "execution_count": 179,
   "id": "f565dd6d",
   "metadata": {},
   "outputs": [],
   "source": [
    "df_r_air.drop([\"id\", \"contact\", \"venuePage\",\"categories\",\"verified\",\"stats\",\"beenHere\",\"hereNow\",\"referralId\",\"venueChains\", \"hasPerk\"], axis=1, inplace=True)"
   ]
  },
  {
   "cell_type": "code",
   "execution_count": 180,
   "id": "e9977631",
   "metadata": {},
   "outputs": [],
   "source": [
    "df_r_air[\"distancia\"] = df_r_air[\"location\"].apply(devuelvedistancia)"
   ]
  },
  {
   "cell_type": "code",
   "execution_count": 181,
   "id": "72e260ca",
   "metadata": {},
   "outputs": [],
   "source": [
    "df_r_air[\"ciudad\"] = df_r_air[\"name\"].apply(esroma)"
   ]
  },
  {
   "cell_type": "code",
   "execution_count": 182,
   "id": "209b3d3c",
   "metadata": {},
   "outputs": [],
   "source": [
    "df_r_air[\"criterio\"] = df_r_air[\"name\"].apply(esairport)"
   ]
  },
  {
   "cell_type": "code",
   "execution_count": 183,
   "id": "896fa85e",
   "metadata": {},
   "outputs": [],
   "source": [
    "df_r_air[\"point\"] = df_r_air[\"location\"].apply(devuelvePoint)"
   ]
  },
  {
   "cell_type": "markdown",
   "id": "2d76b285",
   "metadata": {},
   "source": [
    "#### Sacamos el dataframe deStarbucks de Berlin "
   ]
  },
  {
   "cell_type": "code",
   "execution_count": 184,
   "id": "287f1710",
   "metadata": {},
   "outputs": [],
   "source": [
    "df_b_star = pd.DataFrame(b_star)"
   ]
  },
  {
   "cell_type": "code",
   "execution_count": 185,
   "id": "54aab028",
   "metadata": {},
   "outputs": [],
   "source": [
    "df_b_star.drop([\"id\", \"contact\", \"categories\",\"verified\",\"stats\",\"beenHere\",\"hereNow\",\"referralId\",\"venueChains\", \"hasPerk\"], axis=1, inplace=True)"
   ]
  },
  {
   "cell_type": "code",
   "execution_count": 186,
   "id": "945a1dac",
   "metadata": {},
   "outputs": [],
   "source": [
    "df_b_star[\"ciudad\"] = df_b_star[\"name\"].apply(esberlin)"
   ]
  },
  {
   "cell_type": "code",
   "execution_count": 187,
   "id": "d7add7b6",
   "metadata": {},
   "outputs": [],
   "source": [
    "df_b_star[\"criterio\"] = df_b_star[\"name\"].apply(esstar)"
   ]
  },
  {
   "cell_type": "code",
   "execution_count": 188,
   "id": "1d2e5d24",
   "metadata": {},
   "outputs": [],
   "source": [
    "df_b_star[\"distancia\"] = df_b_star[\"location\"].apply(devuelvedistancia)"
   ]
  },
  {
   "cell_type": "code",
   "execution_count": 189,
   "id": "65481504",
   "metadata": {},
   "outputs": [],
   "source": [
    "df_b_star[\"point\"] = df_b_star[\"location\"].apply(devuelvePoint)"
   ]
  },
  {
   "cell_type": "markdown",
   "id": "fe034a91",
   "metadata": {},
   "source": [
    "#### Sacamos el dataframe de Vets de Berlin "
   ]
  },
  {
   "cell_type": "code",
   "execution_count": 355,
   "id": "f0257386",
   "metadata": {},
   "outputs": [],
   "source": [
    "df_b_dobby = pd.DataFrame(b_dobby)"
   ]
  },
  {
   "cell_type": "code",
   "execution_count": 356,
   "id": "95089dfe",
   "metadata": {},
   "outputs": [],
   "source": [
    "df_b_dobby.drop([\"id\",\"venuePage\", \"contact\", \"categories\",\"verified\",\"stats\",\"beenHere\",\"hereNow\",\"referralId\",\"venueChains\", \"hasPerk\"], axis=1, inplace=True)"
   ]
  },
  {
   "cell_type": "code",
   "execution_count": 357,
   "id": "05fd81c6",
   "metadata": {},
   "outputs": [],
   "source": [
    "df_b_dobby[\"ciudad\"] = df_m_dobby[\"name\"].apply(esberlin)"
   ]
  },
  {
   "cell_type": "code",
   "execution_count": 358,
   "id": "70323776",
   "metadata": {},
   "outputs": [],
   "source": [
    "df_b_dobby[\"criterio\"] = df_b_dobby[\"name\"].apply(esvet)"
   ]
  },
  {
   "cell_type": "code",
   "execution_count": 359,
   "id": "2a90929c",
   "metadata": {},
   "outputs": [],
   "source": [
    "df_b_dobby[\"distancia\"] = df_b_dobby[\"location\"].apply(devuelvedistancia)"
   ]
  },
  {
   "cell_type": "code",
   "execution_count": 195,
   "id": "bc7f9b2e",
   "metadata": {},
   "outputs": [],
   "source": [
    "df_b_dobby[\"point\"] = df_b_dobby[\"location\"].apply(devuelvePoint)"
   ]
  },
  {
   "cell_type": "markdown",
   "id": "0426f992",
   "metadata": {},
   "source": [
    "#### Sacamos el dataframe de Aeropuestos de Berlin "
   ]
  },
  {
   "cell_type": "code",
   "execution_count": 196,
   "id": "10882fdd",
   "metadata": {},
   "outputs": [],
   "source": [
    "df_b_air = pd.DataFrame(b_air)"
   ]
  },
  {
   "cell_type": "code",
   "execution_count": 197,
   "id": "ed1f7a80",
   "metadata": {},
   "outputs": [],
   "source": [
    "df_b_air.drop([\"id\", \"contact\", \"venuePage\",\"categories\",\"verified\",\"stats\",\"beenHere\",\"hereNow\",\"referralId\",\"venueChains\", \"hasPerk\"], axis=1, inplace=True)"
   ]
  },
  {
   "cell_type": "code",
   "execution_count": 198,
   "id": "2a04ce36",
   "metadata": {},
   "outputs": [],
   "source": [
    "df_b_air[\"distancia\"] = df_b_air[\"location\"].apply(devuelvedistancia)"
   ]
  },
  {
   "cell_type": "code",
   "execution_count": 199,
   "id": "1c4869fd",
   "metadata": {},
   "outputs": [],
   "source": [
    "df_b_air[\"ciudad\"] = df_b_air[\"name\"].apply(esberlin)"
   ]
  },
  {
   "cell_type": "code",
   "execution_count": 200,
   "id": "bbb39df1",
   "metadata": {},
   "outputs": [],
   "source": [
    "df_b_air[\"criterio\"] = df_b_air[\"name\"].apply(esairport)"
   ]
  },
  {
   "cell_type": "code",
   "execution_count": 201,
   "id": "8186a2db",
   "metadata": {},
   "outputs": [],
   "source": [
    "df_b_air[\"point\"] = df_b_air[\"location\"].apply(devuelvePoint)"
   ]
  },
  {
   "cell_type": "markdown",
   "id": "d1a1e17d",
   "metadata": {},
   "source": [
    "#### Unimos toda la información de cada ciudad"
   ]
  },
  {
   "cell_type": "code",
   "execution_count": 203,
   "id": "6eba787f",
   "metadata": {},
   "outputs": [],
   "source": [
    "client = MongoClient(\"localhost:27017\")"
   ]
  },
  {
   "cell_type": "code",
   "execution_count": 204,
   "id": "856434b9",
   "metadata": {},
   "outputs": [],
   "source": [
    "db = client.get_database(\"Geoespecial\")"
   ]
  },
  {
   "cell_type": "code",
   "execution_count": 205,
   "id": "2cb2385d",
   "metadata": {},
   "outputs": [],
   "source": [
    "madrid = pd.concat([df_m_star, df_m_dobby, df_m_air])\n",
    "roma = pd.concat([df_r_star, df_r_dobby, df_r_air])\n",
    "berlin = pd.concat([df_b_star, df_b_dobby, df_b_air])"
   ]
  },
  {
   "cell_type": "code",
   "execution_count": 206,
   "id": "cbe1d91e",
   "metadata": {},
   "outputs": [
    {
     "data": {
      "text/plain": [
       "<pymongo.results.InsertManyResult at 0x7fc10360d2c0>"
      ]
     },
     "execution_count": 206,
     "metadata": {},
     "output_type": "execute_result"
    }
   ],
   "source": [
    "data_mad =  madrid.to_dict(orient = \"records\")\n",
    "client = MongoClient(\"localhost:27017\")\n",
    "db = client.get_database(\"Geoespecial\")\n",
    "madrid = db[\"Madrid\"]\n",
    "madrid.insert_many(data_mad)"
   ]
  },
  {
   "cell_type": "code",
   "execution_count": 207,
   "id": "bc3570ba",
   "metadata": {},
   "outputs": [
    {
     "data": {
      "text/plain": [
       "<pymongo.results.InsertManyResult at 0x7fc103595c80>"
      ]
     },
     "execution_count": 207,
     "metadata": {},
     "output_type": "execute_result"
    }
   ],
   "source": [
    "data_rom =  roma.to_dict(orient = \"records\")\n",
    "client = MongoClient(\"localhost:27017\")\n",
    "db = client.get_database(\"Geoespecial\")\n",
    "roma = db[\"Roma\"]\n",
    "roma.insert_many(data_rom)"
   ]
  },
  {
   "cell_type": "code",
   "execution_count": 208,
   "id": "0a15860e",
   "metadata": {},
   "outputs": [
    {
     "data": {
      "text/plain": [
       "<pymongo.results.InsertManyResult at 0x7fc103595f80>"
      ]
     },
     "execution_count": 208,
     "metadata": {},
     "output_type": "execute_result"
    }
   ],
   "source": [
    "data_ber =  berlin.to_dict(orient = \"records\")\n",
    "client = MongoClient(\"localhost:27017\")\n",
    "db = client.get_database(\"Geoespecial\")\n",
    "berlin = db[\"Berlin\"]\n",
    "berlin.insert_many(data_ber)"
   ]
  },
  {
   "cell_type": "markdown",
   "id": "c2483f38",
   "metadata": {},
   "source": [
    "### 04. Le damos peso a los criterios definidos y hacemos geoqueris"
   ]
  },
  {
   "cell_type": "markdown",
   "id": "46f40bf6",
   "metadata": {},
   "source": [
    "#### Le damos peso"
   ]
  },
  {
   "cell_type": "code",
   "execution_count": 288,
   "id": "93e1ca12",
   "metadata": {},
   "outputs": [],
   "source": [
    "def devuelvepuntos(x):\n",
    "    if x == \"starbucks\":\n",
    "        return 5 \n",
    "    elif x == \"vet\":\n",
    "        return 1\n",
    "    else:\n",
    "        return 10"
   ]
  },
  {
   "cell_type": "markdown",
   "id": "8e5998d4",
   "metadata": {},
   "source": [
    "#### hacemos las geoqueries y aplicamos los pesos de nuestros criterios para tener un dato por ciudad"
   ]
  },
  {
   "cell_type": "code",
   "execution_count": 361,
   "id": "08bdd77e",
   "metadata": {},
   "outputs": [],
   "source": [
    "mad = db.get_collection(\"Madrid\")"
   ]
  },
  {
   "cell_type": "code",
   "execution_count": 362,
   "id": "b2218d6a",
   "metadata": {},
   "outputs": [],
   "source": [
    "mquery = [{'$geoNear':{'near': [m[\"coordinates\"][0], m[\"coordinates\"][1]],\n",
    "                      'distanceField': 'd',\n",
    "                      'maxDistance' : 1000,\n",
    "                      'distanceMultiplier': 6371,\n",
    "                      'spherical': True}}]\n",
    "mad_geoloc = mad.aggregate(mquery)\n",
    "             \n",
    "pd_madrid = pd.DataFrame(list(mad_geoloc))"
   ]
  },
  {
   "cell_type": "code",
   "execution_count": 363,
   "id": "2e228624",
   "metadata": {},
   "outputs": [],
   "source": [
    "dfmadrid = pd.DataFrame(pd_madrid.groupby(pd_madrid[\"criterio\"])[\"d\"].mean().reset_index())"
   ]
  },
  {
   "cell_type": "code",
   "execution_count": 364,
   "id": "25c558d3",
   "metadata": {},
   "outputs": [],
   "source": [
    "dfmadrid[\"puntos\"] = dfromaaaa[\"criterio\"].apply(devuelvepuntos)"
   ]
  },
  {
   "cell_type": "code",
   "execution_count": 365,
   "id": "127f31ba",
   "metadata": {},
   "outputs": [],
   "source": [
    "dfmadrid[\"total\"] = dfmadrid[\"puntos\"]*  dfmadrid[\"d\"]"
   ]
  },
  {
   "cell_type": "code",
   "execution_count": 366,
   "id": "64f4ab2d",
   "metadata": {},
   "outputs": [
    {
     "name": "stdout",
     "output_type": "stream",
     "text": [
      "115.2135361279468\n"
     ]
    }
   ],
   "source": [
    "TotalMADRID = dfmadrid['total'].sum()\n",
    "print(TotalMADRID)"
   ]
  },
  {
   "cell_type": "code",
   "execution_count": 367,
   "id": "c704c299",
   "metadata": {},
   "outputs": [],
   "source": [
    "rom = db.get_collection(\"Roma\")"
   ]
  },
  {
   "cell_type": "code",
   "execution_count": 368,
   "id": "e67aaaa3",
   "metadata": {},
   "outputs": [],
   "source": [
    "rquery = [{'$geoNear':{'near': [r[\"coordinates\"][0], r[\"coordinates\"][1]],\n",
    "                      'distanceField': 'd',\n",
    "                      'maxDistance' : 1000,\n",
    "                      'distanceMultiplier': 6371,\n",
    "                      'spherical': True}}]\n",
    "rom_geoloc = rom.aggregate(rquery)\n",
    "             \n",
    "pd_roma = pd.DataFrame(list(rom_geoloc))"
   ]
  },
  {
   "cell_type": "code",
   "execution_count": 369,
   "id": "c687f4d5",
   "metadata": {},
   "outputs": [],
   "source": [
    "dfromaaaa = pd.DataFrame(pd_roma.groupby(pd_roma[\"criterio\"])[\"d\"].mean().reset_index())"
   ]
  },
  {
   "cell_type": "code",
   "execution_count": 370,
   "id": "7ad61a52",
   "metadata": {},
   "outputs": [],
   "source": [
    "dfromaaaa[\"puntos\"] = dfromaaaa[\"criterio\"].apply(devuelvepuntos)"
   ]
  },
  {
   "cell_type": "code",
   "execution_count": 371,
   "id": "c9447dc2",
   "metadata": {},
   "outputs": [],
   "source": [
    "dfromaaaa[\"total\"] = dfromaaaa[\"puntos\"]*  dfromaaaa[\"d\"]"
   ]
  },
  {
   "cell_type": "code",
   "execution_count": 372,
   "id": "f3d811f7",
   "metadata": {},
   "outputs": [
    {
     "name": "stdout",
     "output_type": "stream",
     "text": [
      "126.45028613744243\n"
     ]
    }
   ],
   "source": [
    "TotalROMA = dfromaaaa['total'].sum()\n",
    "print(TotalROMA)"
   ]
  },
  {
   "cell_type": "code",
   "execution_count": 373,
   "id": "4a3c62d5",
   "metadata": {},
   "outputs": [
    {
     "data": {
      "text/html": [
       "<div>\n",
       "<style scoped>\n",
       "    .dataframe tbody tr th:only-of-type {\n",
       "        vertical-align: middle;\n",
       "    }\n",
       "\n",
       "    .dataframe tbody tr th {\n",
       "        vertical-align: top;\n",
       "    }\n",
       "\n",
       "    .dataframe thead th {\n",
       "        text-align: right;\n",
       "    }\n",
       "</style>\n",
       "<table border=\"1\" class=\"dataframe\">\n",
       "  <thead>\n",
       "    <tr style=\"text-align: right;\">\n",
       "      <th></th>\n",
       "      <th>criterio</th>\n",
       "      <th>d</th>\n",
       "      <th>puntos</th>\n",
       "      <th>total</th>\n",
       "    </tr>\n",
       "  </thead>\n",
       "  <tbody>\n",
       "    <tr>\n",
       "      <th>0</th>\n",
       "      <td>airport</td>\n",
       "      <td>10.352004</td>\n",
       "      <td>10</td>\n",
       "      <td>103.520044</td>\n",
       "    </tr>\n",
       "    <tr>\n",
       "      <th>1</th>\n",
       "      <td>starbucks</td>\n",
       "      <td>4.095577</td>\n",
       "      <td>5</td>\n",
       "      <td>20.477885</td>\n",
       "    </tr>\n",
       "    <tr>\n",
       "      <th>2</th>\n",
       "      <td>vet</td>\n",
       "      <td>2.452358</td>\n",
       "      <td>1</td>\n",
       "      <td>2.452358</td>\n",
       "    </tr>\n",
       "  </tbody>\n",
       "</table>\n",
       "</div>"
      ],
      "text/plain": [
       "    criterio          d  puntos       total\n",
       "0    airport  10.352004      10  103.520044\n",
       "1  starbucks   4.095577       5   20.477885\n",
       "2        vet   2.452358       1    2.452358"
      ]
     },
     "execution_count": 373,
     "metadata": {},
     "output_type": "execute_result"
    }
   ],
   "source": [
    "dfromaaaa"
   ]
  },
  {
   "cell_type": "code",
   "execution_count": 374,
   "id": "b2f176aa",
   "metadata": {},
   "outputs": [],
   "source": [
    "ber = db.get_collection(\"Berlin\")"
   ]
  },
  {
   "cell_type": "code",
   "execution_count": 375,
   "id": "e7df61af",
   "metadata": {},
   "outputs": [],
   "source": [
    "bquery = [{'$geoNear':{'near': [b[\"coordinates\"][0], b[\"coordinates\"][1]],\n",
    "                      'distanceField': 'd',\n",
    "                      'maxDistance' : 1000,\n",
    "                      'distanceMultiplier': 6371,\n",
    "                      'spherical': True}}]\n",
    "\n",
    "ber_geoloc = ber.aggregate(bquery)\n",
    "pd_berlin = pd.DataFrame(list(ber_geoloc))"
   ]
  },
  {
   "cell_type": "code",
   "execution_count": 376,
   "id": "7683862f",
   "metadata": {},
   "outputs": [
    {
     "data": {
      "text/plain": [
       "criterio\n",
       "airport      9.490385\n",
       "starbucks    3.345740\n",
       "vet          4.995744\n",
       "Name: d, dtype: float64"
      ]
     },
     "execution_count": 376,
     "metadata": {},
     "output_type": "execute_result"
    }
   ],
   "source": [
    "pd_berlin.groupby(pd_berlin[\"criterio\"])[\"d\"].mean()"
   ]
  },
  {
   "cell_type": "code",
   "execution_count": 377,
   "id": "7411594e",
   "metadata": {},
   "outputs": [
    {
     "data": {
      "text/html": [
       "<div>\n",
       "<style scoped>\n",
       "    .dataframe tbody tr th:only-of-type {\n",
       "        vertical-align: middle;\n",
       "    }\n",
       "\n",
       "    .dataframe tbody tr th {\n",
       "        vertical-align: top;\n",
       "    }\n",
       "\n",
       "    .dataframe thead th {\n",
       "        text-align: right;\n",
       "    }\n",
       "</style>\n",
       "<table border=\"1\" class=\"dataframe\">\n",
       "  <thead>\n",
       "    <tr style=\"text-align: right;\">\n",
       "      <th></th>\n",
       "      <th>criterio</th>\n",
       "      <th>d</th>\n",
       "    </tr>\n",
       "  </thead>\n",
       "  <tbody>\n",
       "    <tr>\n",
       "      <th>0</th>\n",
       "      <td>airport</td>\n",
       "      <td>9.490385</td>\n",
       "    </tr>\n",
       "    <tr>\n",
       "      <th>1</th>\n",
       "      <td>starbucks</td>\n",
       "      <td>3.345740</td>\n",
       "    </tr>\n",
       "    <tr>\n",
       "      <th>2</th>\n",
       "      <td>vet</td>\n",
       "      <td>4.995744</td>\n",
       "    </tr>\n",
       "  </tbody>\n",
       "</table>\n",
       "</div>"
      ],
      "text/plain": [
       "    criterio         d\n",
       "0    airport  9.490385\n",
       "1  starbucks  3.345740\n",
       "2        vet  4.995744"
      ]
     },
     "execution_count": 377,
     "metadata": {},
     "output_type": "execute_result"
    }
   ],
   "source": [
    "dfberlin = pd.DataFrame(pd_berlin.groupby(pd_berlin[\"criterio\"])[\"d\"].mean().reset_index())\n",
    "dfberlin"
   ]
  },
  {
   "cell_type": "code",
   "execution_count": 378,
   "id": "dfddc25a",
   "metadata": {},
   "outputs": [],
   "source": [
    "dfberlin[\"puntos\"] = dfberlin[\"criterio\"].apply(devuelvepuntos)"
   ]
  },
  {
   "cell_type": "code",
   "execution_count": 379,
   "id": "c8e3a488",
   "metadata": {},
   "outputs": [
    {
     "data": {
      "text/html": [
       "<div>\n",
       "<style scoped>\n",
       "    .dataframe tbody tr th:only-of-type {\n",
       "        vertical-align: middle;\n",
       "    }\n",
       "\n",
       "    .dataframe tbody tr th {\n",
       "        vertical-align: top;\n",
       "    }\n",
       "\n",
       "    .dataframe thead th {\n",
       "        text-align: right;\n",
       "    }\n",
       "</style>\n",
       "<table border=\"1\" class=\"dataframe\">\n",
       "  <thead>\n",
       "    <tr style=\"text-align: right;\">\n",
       "      <th></th>\n",
       "      <th>criterio</th>\n",
       "      <th>d</th>\n",
       "      <th>puntos</th>\n",
       "      <th>total</th>\n",
       "    </tr>\n",
       "  </thead>\n",
       "  <tbody>\n",
       "    <tr>\n",
       "      <th>0</th>\n",
       "      <td>airport</td>\n",
       "      <td>9.490385</td>\n",
       "      <td>10</td>\n",
       "      <td>94.903854</td>\n",
       "    </tr>\n",
       "    <tr>\n",
       "      <th>1</th>\n",
       "      <td>starbucks</td>\n",
       "      <td>3.345740</td>\n",
       "      <td>5</td>\n",
       "      <td>16.728702</td>\n",
       "    </tr>\n",
       "    <tr>\n",
       "      <th>2</th>\n",
       "      <td>vet</td>\n",
       "      <td>4.995744</td>\n",
       "      <td>1</td>\n",
       "      <td>4.995744</td>\n",
       "    </tr>\n",
       "  </tbody>\n",
       "</table>\n",
       "</div>"
      ],
      "text/plain": [
       "    criterio         d  puntos      total\n",
       "0    airport  9.490385      10  94.903854\n",
       "1  starbucks  3.345740       5  16.728702\n",
       "2        vet  4.995744       1   4.995744"
      ]
     },
     "execution_count": 379,
     "metadata": {},
     "output_type": "execute_result"
    }
   ],
   "source": [
    "dfberlin[\"total\"] = dfberlin[\"puntos\"]*  dfberlin[\"d\"]\n",
    "dfberlin"
   ]
  },
  {
   "cell_type": "code",
   "execution_count": 380,
   "id": "0768faf6",
   "metadata": {},
   "outputs": [
    {
     "name": "stdout",
     "output_type": "stream",
     "text": [
      "116.62829958061778\n"
     ]
    }
   ],
   "source": [
    "TotalBERLIN = dfberlin['total'].sum()\n",
    "print(TotalBERLIN)"
   ]
  },
  {
   "cell_type": "code",
   "execution_count": 381,
   "id": "99c57c85",
   "metadata": {},
   "outputs": [
    {
     "data": {
      "text/plain": [
       "[115.2135361279468, 126.45028613744243, 116.62829958061778]"
      ]
     },
     "execution_count": 381,
     "metadata": {},
     "output_type": "execute_result"
    }
   ],
   "source": [
    "list([TotalMADRID,TotalROMA, TotalBERLIN] )"
   ]
  },
  {
   "cell_type": "code",
   "execution_count": 382,
   "id": "f3eed024",
   "metadata": {},
   "outputs": [
    {
     "data": {
      "text/plain": [
       "115.2135361279468"
      ]
     },
     "execution_count": 382,
     "metadata": {},
     "output_type": "execute_result"
    }
   ],
   "source": [
    "min([TotalMADRID,TotalROMA, TotalBERLIN] )"
   ]
  },
  {
   "cell_type": "markdown",
   "id": "3a9d30fb",
   "metadata": {},
   "source": [
    "# El total más bajo y por tanto, las ubicaciones más cercanas a los puntos elegidos, pertenecen a MADRID"
   ]
  },
  {
   "cell_type": "code",
   "execution_count": null,
   "id": "6dc0355d",
   "metadata": {},
   "outputs": [],
   "source": [
    "m = {\"latt\" : 40.41706973493005, \"longt\": -3.703560607026817} #madrid "
   ]
  },
  {
   "cell_type": "code",
   "execution_count": 384,
   "id": "093453a5",
   "metadata": {},
   "outputs": [],
   "source": [
    "inicial_lat = 40.41706973493005\n",
    "inicial_long = -3.703560607026817"
   ]
  },
  {
   "cell_type": "code",
   "execution_count": 385,
   "id": "61e75116",
   "metadata": {},
   "outputs": [
    {
     "data": {
      "text/html": [
       "<div style=\"width:100%;\"><div style=\"position:relative;width:100%;height:0;padding-bottom:60%;\"><span style=\"color:#565656\">Make this Notebook Trusted to load map: File -> Trust Notebook</span><iframe src=\"about:blank\" style=\"position:absolute;width:100%;height:100%;left:0;top:0;border:none !important;\" data-html=%3C%21DOCTYPE%20html%3E%0A%3Chead%3E%20%20%20%20%0A%20%20%20%20%3Cmeta%20http-equiv%3D%22content-type%22%20content%3D%22text/html%3B%20charset%3DUTF-8%22%20/%3E%0A%20%20%20%20%0A%20%20%20%20%20%20%20%20%3Cscript%3E%0A%20%20%20%20%20%20%20%20%20%20%20%20L_NO_TOUCH%20%3D%20false%3B%0A%20%20%20%20%20%20%20%20%20%20%20%20L_DISABLE_3D%20%3D%20false%3B%0A%20%20%20%20%20%20%20%20%3C/script%3E%0A%20%20%20%20%0A%20%20%20%20%3Cstyle%3Ehtml%2C%20body%20%7Bwidth%3A%20100%25%3Bheight%3A%20100%25%3Bmargin%3A%200%3Bpadding%3A%200%3B%7D%3C/style%3E%0A%20%20%20%20%3Cstyle%3E%23map%20%7Bposition%3Aabsolute%3Btop%3A0%3Bbottom%3A0%3Bright%3A0%3Bleft%3A0%3B%7D%3C/style%3E%0A%20%20%20%20%3Cscript%20src%3D%22https%3A//cdn.jsdelivr.net/npm/leaflet%401.6.0/dist/leaflet.js%22%3E%3C/script%3E%0A%20%20%20%20%3Cscript%20src%3D%22https%3A//code.jquery.com/jquery-1.12.4.min.js%22%3E%3C/script%3E%0A%20%20%20%20%3Cscript%20src%3D%22https%3A//maxcdn.bootstrapcdn.com/bootstrap/3.2.0/js/bootstrap.min.js%22%3E%3C/script%3E%0A%20%20%20%20%3Cscript%20src%3D%22https%3A//cdnjs.cloudflare.com/ajax/libs/Leaflet.awesome-markers/2.0.2/leaflet.awesome-markers.js%22%3E%3C/script%3E%0A%20%20%20%20%3Clink%20rel%3D%22stylesheet%22%20href%3D%22https%3A//cdn.jsdelivr.net/npm/leaflet%401.6.0/dist/leaflet.css%22/%3E%0A%20%20%20%20%3Clink%20rel%3D%22stylesheet%22%20href%3D%22https%3A//maxcdn.bootstrapcdn.com/bootstrap/3.2.0/css/bootstrap.min.css%22/%3E%0A%20%20%20%20%3Clink%20rel%3D%22stylesheet%22%20href%3D%22https%3A//maxcdn.bootstrapcdn.com/bootstrap/3.2.0/css/bootstrap-theme.min.css%22/%3E%0A%20%20%20%20%3Clink%20rel%3D%22stylesheet%22%20href%3D%22https%3A//maxcdn.bootstrapcdn.com/font-awesome/4.6.3/css/font-awesome.min.css%22/%3E%0A%20%20%20%20%3Clink%20rel%3D%22stylesheet%22%20href%3D%22https%3A//cdnjs.cloudflare.com/ajax/libs/Leaflet.awesome-markers/2.0.2/leaflet.awesome-markers.css%22/%3E%0A%20%20%20%20%3Clink%20rel%3D%22stylesheet%22%20href%3D%22https%3A//cdn.jsdelivr.net/gh/python-visualization/folium/folium/templates/leaflet.awesome.rotate.min.css%22/%3E%0A%20%20%20%20%0A%20%20%20%20%20%20%20%20%20%20%20%20%3Cmeta%20name%3D%22viewport%22%20content%3D%22width%3Ddevice-width%2C%0A%20%20%20%20%20%20%20%20%20%20%20%20%20%20%20%20initial-scale%3D1.0%2C%20maximum-scale%3D1.0%2C%20user-scalable%3Dno%22%20/%3E%0A%20%20%20%20%20%20%20%20%20%20%20%20%3Cstyle%3E%0A%20%20%20%20%20%20%20%20%20%20%20%20%20%20%20%20%23map_f73dcf5c94124bdbbd76c5ba025ec48f%20%7B%0A%20%20%20%20%20%20%20%20%20%20%20%20%20%20%20%20%20%20%20%20position%3A%20relative%3B%0A%20%20%20%20%20%20%20%20%20%20%20%20%20%20%20%20%20%20%20%20width%3A%20100.0%25%3B%0A%20%20%20%20%20%20%20%20%20%20%20%20%20%20%20%20%20%20%20%20height%3A%20100.0%25%3B%0A%20%20%20%20%20%20%20%20%20%20%20%20%20%20%20%20%20%20%20%20left%3A%200.0%25%3B%0A%20%20%20%20%20%20%20%20%20%20%20%20%20%20%20%20%20%20%20%20top%3A%200.0%25%3B%0A%20%20%20%20%20%20%20%20%20%20%20%20%20%20%20%20%7D%0A%20%20%20%20%20%20%20%20%20%20%20%20%3C/style%3E%0A%20%20%20%20%20%20%20%20%0A%3C/head%3E%0A%3Cbody%3E%20%20%20%20%0A%20%20%20%20%0A%20%20%20%20%20%20%20%20%20%20%20%20%3Cdiv%20class%3D%22folium-map%22%20id%3D%22map_f73dcf5c94124bdbbd76c5ba025ec48f%22%20%3E%3C/div%3E%0A%20%20%20%20%20%20%20%20%0A%3C/body%3E%0A%3Cscript%3E%20%20%20%20%0A%20%20%20%20%0A%20%20%20%20%20%20%20%20%20%20%20%20var%20map_f73dcf5c94124bdbbd76c5ba025ec48f%20%3D%20L.map%28%0A%20%20%20%20%20%20%20%20%20%20%20%20%20%20%20%20%22map_f73dcf5c94124bdbbd76c5ba025ec48f%22%2C%0A%20%20%20%20%20%20%20%20%20%20%20%20%20%20%20%20%7B%0A%20%20%20%20%20%20%20%20%20%20%20%20%20%20%20%20%20%20%20%20center%3A%20%5B40.41706973493005%2C%20-3.703560607026817%5D%2C%0A%20%20%20%20%20%20%20%20%20%20%20%20%20%20%20%20%20%20%20%20crs%3A%20L.CRS.EPSG3857%2C%0A%20%20%20%20%20%20%20%20%20%20%20%20%20%20%20%20%20%20%20%20zoom%3A%2015%2C%0A%20%20%20%20%20%20%20%20%20%20%20%20%20%20%20%20%20%20%20%20zoomControl%3A%20true%2C%0A%20%20%20%20%20%20%20%20%20%20%20%20%20%20%20%20%20%20%20%20preferCanvas%3A%20false%2C%0A%20%20%20%20%20%20%20%20%20%20%20%20%20%20%20%20%7D%0A%20%20%20%20%20%20%20%20%20%20%20%20%29%3B%0A%0A%20%20%20%20%20%20%20%20%20%20%20%20%0A%0A%20%20%20%20%20%20%20%20%0A%20%20%20%20%0A%20%20%20%20%20%20%20%20%20%20%20%20var%20tile_layer_08026bf3a2b84dca99da7ec81c3cca48%20%3D%20L.tileLayer%28%0A%20%20%20%20%20%20%20%20%20%20%20%20%20%20%20%20%22https%3A//%7Bs%7D.tile.openstreetmap.org/%7Bz%7D/%7Bx%7D/%7By%7D.png%22%2C%0A%20%20%20%20%20%20%20%20%20%20%20%20%20%20%20%20%7B%22attribution%22%3A%20%22Data%20by%20%5Cu0026copy%3B%20%5Cu003ca%20href%3D%5C%22http%3A//openstreetmap.org%5C%22%5Cu003eOpenStreetMap%5Cu003c/a%5Cu003e%2C%20under%20%5Cu003ca%20href%3D%5C%22http%3A//www.openstreetmap.org/copyright%5C%22%5Cu003eODbL%5Cu003c/a%5Cu003e.%22%2C%20%22detectRetina%22%3A%20false%2C%20%22maxNativeZoom%22%3A%2018%2C%20%22maxZoom%22%3A%2018%2C%20%22minZoom%22%3A%200%2C%20%22noWrap%22%3A%20false%2C%20%22opacity%22%3A%201%2C%20%22subdomains%22%3A%20%22abc%22%2C%20%22tms%22%3A%20false%7D%0A%20%20%20%20%20%20%20%20%20%20%20%20%29.addTo%28map_f73dcf5c94124bdbbd76c5ba025ec48f%29%3B%0A%20%20%20%20%20%20%20%20%0A%3C/script%3E onload=\"this.contentDocument.open();this.contentDocument.write(    decodeURIComponent(this.getAttribute('data-html')));this.contentDocument.close();\" allowfullscreen webkitallowfullscreen mozallowfullscreen></iframe></div></div>"
      ],
      "text/plain": [
       "<folium.folium.Map at 0x7fc101f0e580>"
      ]
     },
     "execution_count": 385,
     "metadata": {},
     "output_type": "execute_result"
    }
   ],
   "source": [
    "map_1 = folium.Map(location=[inicial_lat,inicial_long], zoom_start=15)\n",
    "map_1"
   ]
  },
  {
   "cell_type": "code",
   "execution_count": null,
   "id": "da94bce3",
   "metadata": {},
   "outputs": [],
   "source": []
  },
  {
   "cell_type": "code",
   "execution_count": null,
   "id": "3eee02fe",
   "metadata": {},
   "outputs": [],
   "source": []
  },
  {
   "cell_type": "code",
   "execution_count": null,
   "id": "1225d365",
   "metadata": {},
   "outputs": [],
   "source": []
  },
  {
   "cell_type": "code",
   "execution_count": null,
   "id": "ca65ae4d",
   "metadata": {},
   "outputs": [],
   "source": []
  },
  {
   "cell_type": "code",
   "execution_count": null,
   "id": "b9c102d3",
   "metadata": {},
   "outputs": [],
   "source": []
  },
  {
   "cell_type": "code",
   "execution_count": null,
   "id": "df19e916",
   "metadata": {},
   "outputs": [],
   "source": []
  },
  {
   "cell_type": "code",
   "execution_count": null,
   "id": "30618aeb",
   "metadata": {},
   "outputs": [],
   "source": []
  },
  {
   "cell_type": "code",
   "execution_count": null,
   "id": "8cf6eb5e",
   "metadata": {},
   "outputs": [],
   "source": []
  },
  {
   "cell_type": "code",
   "execution_count": null,
   "id": "f785bb94",
   "metadata": {},
   "outputs": [],
   "source": []
  },
  {
   "cell_type": "code",
   "execution_count": null,
   "id": "f1bd861b",
   "metadata": {},
   "outputs": [],
   "source": []
  },
  {
   "cell_type": "code",
   "execution_count": null,
   "id": "0de46a84",
   "metadata": {},
   "outputs": [],
   "source": []
  },
  {
   "cell_type": "code",
   "execution_count": null,
   "id": "aa596314",
   "metadata": {},
   "outputs": [],
   "source": []
  },
  {
   "cell_type": "code",
   "execution_count": null,
   "id": "6fd7f56e",
   "metadata": {},
   "outputs": [],
   "source": []
  },
  {
   "cell_type": "code",
   "execution_count": null,
   "id": "6d3fc4ef",
   "metadata": {},
   "outputs": [],
   "source": []
  },
  {
   "cell_type": "code",
   "execution_count": null,
   "id": "0775054d",
   "metadata": {},
   "outputs": [],
   "source": []
  },
  {
   "cell_type": "code",
   "execution_count": null,
   "id": "e69f38f4",
   "metadata": {},
   "outputs": [],
   "source": []
  },
  {
   "cell_type": "code",
   "execution_count": null,
   "id": "8e526c04",
   "metadata": {},
   "outputs": [],
   "source": []
  }
 ],
 "metadata": {
  "kernelspec": {
   "display_name": "ironhack",
   "language": "python",
   "name": "ironhack"
  },
  "language_info": {
   "codemirror_mode": {
    "name": "ipython",
    "version": 3
   },
   "file_extension": ".py",
   "mimetype": "text/x-python",
   "name": "python",
   "nbconvert_exporter": "python",
   "pygments_lexer": "ipython3",
   "version": "3.8.5"
  }
 },
 "nbformat": 4,
 "nbformat_minor": 5
}
